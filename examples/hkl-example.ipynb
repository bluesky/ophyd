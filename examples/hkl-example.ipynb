{
 "cells": [
  {
   "cell_type": "markdown",
   "metadata": {},
   "source": [
    "# HKL calculation, compared to SPEC results"
   ]
  },
  {
   "cell_type": "code",
   "execution_count": null,
   "metadata": {
    "collapsed": false
   },
   "outputs": [],
   "source": [
    "%matplotlib notebook\n",
    "\n",
    "import pandas as pd\n",
    "import numpy as np\n",
    "import matplotlib.pyplot as plt\n",
    "\n",
    "# from ophyd.hkl.diffract import E6C\n",
    "from ophyd.hkl.calc import CalcE6C"
   ]
  },
  {
   "cell_type": "markdown",
   "metadata": {},
   "source": [
    "## Load the desired HKL trajectory"
   ]
  },
  {
   "cell_type": "code",
   "execution_count": null,
   "metadata": {
    "collapsed": false
   },
   "outputs": [],
   "source": [
    "hkls = pd.read_csv('hkl_data/hkl.txt', delim_whitespace=True)\n",
    "hkls.keys()"
   ]
  },
  {
   "cell_type": "markdown",
   "metadata": {},
   "source": [
    "## Get the motor positions that SPEC calculated"
   ]
  },
  {
   "cell_type": "code",
   "execution_count": null,
   "metadata": {
    "collapsed": false
   },
   "outputs": [],
   "source": [
    "# The motor positions according to SPEC\n",
    "spec_motors = pd.read_csv('hkl_data/motors.txt', delim_whitespace=True)\n",
    "spec_motors.keys()"
   ]
  },
  {
   "cell_type": "markdown",
   "metadata": {},
   "source": [
    "## Plot the trajectory of the physical motors"
   ]
  },
  {
   "cell_type": "code",
   "execution_count": null,
   "metadata": {
    "collapsed": false
   },
   "outputs": [],
   "source": [
    "fig, axes = plt.subplots(3, 2, figsize=(12, 6),\n",
    "                         subplot_kw={'xticks': []})\n",
    "fig.subplots_adjust(hspace=0.3, wspace=0.2)\n",
    "\n",
    "plt.suptitle('Trajectory according to SPEC')\n",
    "for ax, key in zip(axes.flat, spec_motors.keys()):\n",
    "    ax.plot(spec_motors.index, spec_motors[key], label=key)\n",
    "    ax.set_title(key)\n",
    "plt.show()"
   ]
  },
  {
   "cell_type": "markdown",
   "metadata": {},
   "source": [
    "## Plot the desired HKL trajectory"
   ]
  },
  {
   "cell_type": "code",
   "execution_count": null,
   "metadata": {
    "collapsed": false,
    "scrolled": false
   },
   "outputs": [],
   "source": [
    "fig, axes = plt.subplots(3, 1, figsize=(12, 6))\n",
    "fig.subplots_adjust(hspace=0.4, wspace=0.2)\n",
    "\n",
    "plt.suptitle('Desired HKL trajectory')\n",
    "axes[0].plot(hkls.h)\n",
    "axes[0].set_title('h')\n",
    "axes[1].plot(hkls.k)\n",
    "axes[1].set_title('k')\n",
    "axes[2].plot(hkls.l)\n",
    "axes[2].set_title('l')\n",
    "plt.show()"
   ]
  },
  {
   "cell_type": "markdown",
   "metadata": {},
   "source": [
    "## Initialize a calculation engine"
   ]
  },
  {
   "cell_type": "code",
   "execution_count": null,
   "metadata": {
    "collapsed": false
   },
   "outputs": [],
   "source": [
    "calc = CalcE6C(engine='hkl')\n",
    "calc.wavelength = 1.33  # nm\n",
    "print('physical axes', calc.physical_axes)\n",
    "print('pseudo axes', calc.pseudo_axes)\n",
    "print('omega parameter is', calc['omega'])"
   ]
  },
  {
   "cell_type": "markdown",
   "metadata": {},
   "source": [
    "## Set some constraints on the physical motors"
   ]
  },
  {
   "cell_type": "code",
   "execution_count": null,
   "metadata": {
    "collapsed": false
   },
   "outputs": [],
   "source": [
    "phi = calc['phi']\n",
    "phi.limits = (0, 0)\n",
    "phi.value = 0\n",
    "phi.fit = False\n",
    "\n",
    "chi = calc['chi']\n",
    "chi.limits = (-90, -90)\n",
    "chi.value = -90\n",
    "chi.fit = False\n",
    "\n",
    "mu = calc['mu']\n",
    "mu.limits = (0, 0)\n",
    "mu.value = 0\n",
    "mu.fit = False\n",
    "\n",
    "print('phi', calc['phi'])\n",
    "print('chi', calc['chi'])\n",
    "print('mu', calc['mu'])"
   ]
  },
  {
   "cell_type": "markdown",
   "metadata": {},
   "source": [
    "# Add a sample to work with"
   ]
  },
  {
   "cell_type": "code",
   "execution_count": null,
   "metadata": {
    "collapsed": false
   },
   "outputs": [],
   "source": [
    "# from ophyd.hkl.sample import HklSample\n",
    "# new_sample supports kwargs (see `help(HklSample)`)\n",
    "sample = calc.new_sample('sample0', lattice=(3.78, 3.78, 13.28, 90, 90, 90))"
   ]
  },
  {
   "cell_type": "markdown",
   "metadata": {},
   "source": [
    "## Primary reflection"
   ]
  },
  {
   "cell_type": "code",
   "execution_count": null,
   "metadata": {
    "collapsed": false
   },
   "outputs": [],
   "source": [
    "# set the geometry of the real motor positions first\n",
    "calc.physical_axis_values = calc.Position(mu=0.0, omega=71.04, chi=-90.0, phi=0.0, gamma=-1.65, delta=136.7)\n",
    "# and then add the primary reflection\n",
    "r1 = sample.add_reflection(0, 0, 2)"
   ]
  },
  {
   "cell_type": "markdown",
   "metadata": {},
   "source": [
    "## Secondary reflection"
   ]
  },
  {
   "cell_type": "code",
   "execution_count": null,
   "metadata": {
    "collapsed": false
   },
   "outputs": [],
   "source": [
    "# set the geometry\n",
    "calc.physical_axis_values = calc.Position(mu=0.0, omega=158.22, chi=-90.0, phi=0.0, gamma=1.7, delta=164.94)\n",
    "# and the secondary reflection\n",
    "r2 = sample.add_reflection(1, 0, 1)"
   ]
  },
  {
   "cell_type": "markdown",
   "metadata": {},
   "source": [
    "## Calculate the UB matrix"
   ]
  },
  {
   "cell_type": "code",
   "execution_count": null,
   "metadata": {
    "collapsed": false
   },
   "outputs": [],
   "source": [
    "sample.compute_UB(r1, r2)\n",
    "sample.UB"
   ]
  },
  {
   "cell_type": "markdown",
   "metadata": {},
   "source": [
    "## Calculate the trajectory"
   ]
  },
  {
   "cell_type": "code",
   "execution_count": null,
   "metadata": {
    "collapsed": false,
    "scrolled": false
   },
   "outputs": [],
   "source": [
    "for seq, (h, k, l) in hkls.iterrows():\n",
    "    print('-- hkl {} --'.format((h, k, l)))\n",
    "    print('Solutions:')\n",
    "    for sol in calc.calc((h, k, l)):\n",
    "        print('\\t{}'.format(sol))\n",
    "        \n",
    "    break"
   ]
  }
 ],
 "metadata": {
  "kernelspec": {
   "display_name": "Python 3",
   "language": "python",
   "name": "python3"
  },
  "language_info": {
   "codemirror_mode": {
    "name": "ipython",
    "version": 3
   },
   "file_extension": ".py",
   "mimetype": "text/x-python",
   "name": "python",
   "nbconvert_exporter": "python",
   "pygments_lexer": "ipython3",
   "version": "3.4.3"
  }
 },
 "nbformat": 4,
 "nbformat_minor": 0
}
